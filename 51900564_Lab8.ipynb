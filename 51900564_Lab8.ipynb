{
  "nbformat": 4,
  "nbformat_minor": 0,
  "metadata": {
    "colab": {
      "provenance": [],
      "authorship_tag": "ABX9TyPly10lhTr5t0ZHdlE/WL0E",
      "include_colab_link": true
    },
    "kernelspec": {
      "name": "python3",
      "display_name": "Python 3"
    },
    "language_info": {
      "name": "python"
    }
  },
  "cells": [
    {
      "cell_type": "markdown",
      "metadata": {
        "id": "view-in-github",
        "colab_type": "text"
      },
      "source": [
        "<a href=\"https://colab.research.google.com/github/nguyenthianhthu0903/Sets/blob/main/51900564_Lab8.ipynb\" target=\"_parent\"><img src=\"https://colab.research.google.com/assets/colab-badge.svg\" alt=\"Open In Colab\"/></a>"
      ]
    },
    {
      "cell_type": "code",
      "metadata": {
        "colab": {
          "base_uri": "https://localhost:8080/"
        },
        "id": "7jPSngx7dW6u",
        "outputId": "8542797b-9b6c-4989-ff6d-e7463dab5165"
      },
      "source": [
        "print(\"Cau 1a:\")\n",
        "matranA=[]\n",
        "matranB=[]\n",
        "\n",
        "print(\"Nhap vao ma tran A: \")\n",
        "a = int(input(\"So dong: \"))\n",
        "b = int(input(\"So cot: \"))\n",
        "\n",
        "print(\"Nhap vao cac phan tu\")\n",
        "\n",
        "for i in range(a):\n",
        "    tam=[]\n",
        "    for j in range(b):\n",
        "        tam.append(int(input()))\n",
        "    matranA.append(tam)\n",
        "\n",
        "print(\"Nhap vao ma tran B: \")\n",
        "c = int(input(\"So dong: \"))\n",
        "d = int(input(\"So cot: \"))\n",
        "\n",
        "print(\"Nhap vao cac phan tu\")\n",
        "\n",
        "for i in range(c):\n",
        "    tam=[]\n",
        "    for j in range(d):\n",
        "        tam.append(int(input()))\n",
        "    matranB.append(tam)\n",
        "\n",
        "def sumMatrix(matranA, matranB):\n",
        "    trave=[]\n",
        "    if len(matranA)!=len(matranB):\n",
        "        return \"Loi ma tran\"\n",
        "    else:\n",
        "        for i in range(len(matranA)):\n",
        "            cong=[]\n",
        "            for j in range(len(matranA[0])):\n",
        "                cong.append(matranA[i][j] + matranB[i][j])\n",
        "            trave.append(cong)\n",
        "        return trave\n",
        "print(\"matrixA + matrixB = \",sumMatrix(matranA,matranB))\n",
        "print()\n"
      ],
      "execution_count": 2,
      "outputs": [
        {
          "output_type": "stream",
          "name": "stdout",
          "text": [
            "Cau 1a:\n",
            "Nhap vao ma tran A: \n",
            "So dong: 2\n",
            "So cot: 2\n",
            "Nhap vao cac phan tu\n",
            "1\n",
            "2\n",
            "3\n",
            "4\n",
            "Nhap vao ma tran B: \n",
            "So dong: 2\n",
            "So cot: 2\n",
            "Nhap vao cac phan tu\n",
            "4\n",
            "2\n",
            "1\n",
            "1\n",
            "matrixA + matrixB =  [[5, 4], [4, 5]]\n",
            "\n"
          ]
        }
      ]
    },
    {
      "cell_type": "code",
      "metadata": {
        "colab": {
          "base_uri": "https://localhost:8080/"
        },
        "id": "Dhr0C-AGfBtf",
        "outputId": "5478738c-f873-47ec-bb3a-68813c1bc41f"
      },
      "source": [
        "print(\"Cau 1b:\")\n",
        "matranA=[]\n",
        "matranB=[]\n",
        "\n",
        "print(\"Nhap vao ma tran A: \")\n",
        "a = int(input(\"So dong: \"))\n",
        "b = int(input(\"So cot: \"))\n",
        "\n",
        "print(\"Nhap vao cac phan tu\")\n",
        "\n",
        "for i in range(a):\n",
        "    tam=[]\n",
        "    for j in range(b):\n",
        "        tam.append(int(input()))\n",
        "    matranA.append(tam)\n",
        "\n",
        "print(\"Nhap vao ma tran B: \")\n",
        "c = int(input(\"So dong: \"))\n",
        "d = int(input(\"So cot: \"))\n",
        "\n",
        "print(\"Nhap vao cac phan tu\")\n",
        "\n",
        "for i in range(c):\n",
        "    tam=[]\n",
        "    for j in range(d):\n",
        "        tam.append(int(input()))\n",
        "    matranB.append(tam)\n",
        "\n",
        "def minusMatrix(matranA, matranB):\n",
        "    trave=[]\n",
        "    if len(matranA)!=len(matranB):\n",
        "        return \"Loi ma tran\"\n",
        "    else:\n",
        "        for i in range(len(matranA)):\n",
        "            tru=[]\n",
        "            for j in range(len(matranA[0])):\n",
        "                tru.append(matranA[i][j] - matranB[i][j])\n",
        "            trave.append(tru)\n",
        "        return trave\n",
        "print(\"matrixA - matrixB = \",minusMatrix(matranA,matranB))\n",
        "print()"
      ],
      "execution_count": null,
      "outputs": [
        {
          "output_type": "stream",
          "name": "stdout",
          "text": [
            "Cau 1b:\n",
            "Nhap vao ma tran A: \n",
            "So dong: 2\n",
            "So cot: 2\n",
            "Nhap vao cac phan tu\n",
            "1\n",
            "4\n",
            "5\n",
            "2\n",
            "Nhap vao ma tran B: \n",
            "So dong: 2\n",
            "So cot: 2\n",
            "Nhap vao cac phan tu\n",
            "0\n",
            "1\n",
            "2\n",
            "7\n",
            "matrixA - matrixB =  [[1, 3], [3, -5]]\n",
            "\n"
          ]
        }
      ]
    },
    {
      "cell_type": "code",
      "metadata": {
        "colab": {
          "base_uri": "https://localhost:8080/"
        },
        "id": "P8Kc4uXjfRcA",
        "outputId": "462b36ab-5c08-41de-8403-1f122efe1bc5"
      },
      "source": [
        "print(\"Cau 1c:\")\n",
        "matranC=[]\n",
        "matranD=[]\n",
        "\n",
        "print(\"Nhap vao ma tran C: \")\n",
        "m = int(input(\"So dong: \"))\n",
        "n = int(input(\"So cot: \"))\n",
        "\n",
        "print(\"Nhap vao cac phan tu\")\n",
        "\n",
        "for i in range(m):\n",
        "    tam=[]\n",
        "    for j in range(n):\n",
        "        tam.append(int(input()))\n",
        "    matranC.append(tam)\n",
        "\n",
        "print(\"Nhap vao ma tran D: \")\n",
        "p = int(input(\"So dong: \"))\n",
        "q = int(input(\"So cot: \"))\n",
        "\n",
        "print(\"Nhap vao cac phan tu\")\n",
        "\n",
        "for i in range(p):\n",
        "    tam=[]\n",
        "    for j in range(q):\n",
        "        tam.append(int(input()))\n",
        "    matranD.append(tam)\n",
        "\n",
        "def mulMatrix(matranA, matranB):\n",
        "    trave=[]\n",
        "    if len(matranA[0])==len(matranB) or len(matranA)==len(matranB[0]):\n",
        "        for i in range(len(matranA)):\n",
        "            nhan=[]\n",
        "            for j in range(len(matranB[0])):\n",
        "                x = 0\n",
        "                for k in range(len(matranB)):\n",
        "                    x+=matranA[i][k]*matranB[k][j]\n",
        "                nhan.append(x)\n",
        "            trave.append(nhan)\n",
        "        return trave\n",
        "    else:\n",
        "        return \"Loi ma tran\"\n",
        "\n",
        "print(\"matrixC * matrixD: \",mulMatrix(matranC,matranD))\n",
        "print()"
      ],
      "execution_count": null,
      "outputs": [
        {
          "output_type": "stream",
          "name": "stdout",
          "text": [
            "Cau 1c:\n",
            "Nhap vao ma tran C: \n",
            "So dong: 2\n",
            "So cot: 2\n",
            "Nhap vao cac phan tu\n",
            "1\n",
            "2\n",
            "1\n",
            "0\n",
            "Nhap vao ma tran D: \n",
            "So dong: 2\n",
            "So cot: 2\n",
            "Nhap vao cac phan tu\n",
            "4\n",
            "2\n",
            "1\n",
            "2\n",
            "matrixC * matrixD:  [[6, 6], [4, 2]]\n",
            "\n"
          ]
        }
      ]
    },
    {
      "cell_type": "code",
      "metadata": {
        "colab": {
          "base_uri": "https://localhost:8080/"
        },
        "id": "1Bkbjva3j1Jj",
        "outputId": "0db2bb4b-19f8-45c7-dbd3-5e21755b442d"
      },
      "source": [
        "#1D\n",
        "N=4\n",
        "def transpose(A,B):\n",
        "  \n",
        "    for i in range(N):\n",
        "        for j in range(N):\n",
        "            B[i][j] = A[j][i]\n",
        "A = [ [1, 1, 1, 1],\n",
        "    [2, 2, 2, 2],\n",
        "    [3, 3, 3, 3],\n",
        "    [4, 4, 4, 4]]\n",
        "B = A[:][:]  \n",
        "transpose(A, B)\n",
        "   \n",
        "print(\"Result matrix is\")\n",
        "for i in range(N):\n",
        "    for j in range(N):\n",
        "        print(B[i][j], \" \", end='')\n",
        "    print()"
      ],
      "execution_count": null,
      "outputs": [
        {
          "output_type": "stream",
          "name": "stdout",
          "text": [
            "Result matrix is\n",
            "1  2  3  4  \n",
            "2  2  3  4  \n",
            "3  3  3  4  \n",
            "4  4  4  4  \n"
          ]
        }
      ]
    },
    {
      "cell_type": "code",
      "source": [
        "def mMultiply(A, B):\n",
        "    p = [[sum(a*b for a,b in zip(A_row, B_col)) for B_col in zip(*B)]for A_row in A]\n",
        "    return p;\n",
        "A=([[0,3,5,2],\n",
        "[0,0,2,0],\n",
        "[0,0,0,3]])\n",
        "B=([[2,3,8,1],\n",
        "[3,1,0,0],\n",
        "[0,0,1,3]])\n",
        "cau1c = mMultiply(A,B)\n",
        "#print ('Cau 1 c = ', cau1c)\n",
        "#Cau1e\n",
        "X =( [1, 2], [3,4])\n",
        "Y = ([2,0], [1,2])\n",
        "cau1e1= mMultiply(X, Y)\n",
        "print('Cau 1 e 1 =', cau1e1)\n",
        "print ('Cau 1 e 2 =', mMultiply(Y,X))\n",
        "#Cau1f \n",
        "A1 = ([1,4,6,10], [2,7,5,3])\n",
        "B1 = ([1,4,6], [2,7,5], [9,0,11], [3,1,0])\n",
        "cau1f = mMultiply (A1, B1)\n",
        "print ('Cau 1 f = ', cau1f)"
      ],
      "metadata": {
        "colab": {
          "base_uri": "https://localhost:8080/"
        },
        "id": "uegHnIjqx8Te",
        "outputId": "590bbeaa-0d58-4eae-8518-208fc4e896d4"
      },
      "execution_count": null,
      "outputs": [
        {
          "output_type": "stream",
          "name": "stdout",
          "text": [
            "Cau 1 e 1 = [[4, 4], [10, 8]]\n",
            "Cau 1 e 2 = [[2, 4], [7, 10]]\n",
            "Cau 1 f =  [[93, 42, 92], [70, 60, 102]]\n"
          ]
        }
      ]
    },
    {
      "cell_type": "code",
      "metadata": {
        "colab": {
          "base_uri": "https://localhost:8080/",
          "height": 248
        },
        "id": "cso0s-7fmtU0",
        "outputId": "02030e16-1e57-4c36-bc75-a481776e6ab8"
      },
      "source": [
        "import matplotlib.pyplot as plt\n",
        "import networkx as nx\n",
        "import numpy as np\n",
        "A1=np.array([[0,3,5,2],\n",
        "[0,0,2,0],\n",
        "[0,0,0,3],\n",
        "[0,0,0,0]])\n",
        "G1 = nx.from_numpy_matrix(A1)\n",
        "pos=nx.spring_layout(G1)\n",
        "nx.draw_networkx(G1,pos=pos,with_labels=True,labels={a:b for\n",
        "a,b in enumerate('abcd')})\n",
        "edge_labels = nx.draw_networkx_edge_labels(G1,font_size=6,\n",
        "pos=pos,label_pos=0.5)\n",
        "plt.axis('equal')\n",
        "plt.show()"
      ],
      "execution_count": null,
      "outputs": [
        {
          "output_type": "display_data",
          "data": {
            "image/png": "[encoded data removed]",
            "text/plain": [
              "<Figure size 432x288 with 1 Axes>"
            ]
          },
          "metadata": {}
        }
      ]
    },
    {
      "cell_type": "code",
      "metadata": {
        "colab": {
          "base_uri": "https://localhost:8080/",
          "height": 479
        },
        "id": "VAPdj1HY4giu",
        "outputId": "bb229e54-294b-4243-aa21-05d8dba8ac79"
      },
      "source": [
        "import matplotlib.pyplot as plt\n",
        "import networkx as nx\n",
        "import numpy as np\n",
        "\n",
        "#  a b c d e f\n",
        "#a\n",
        "#b\n",
        "#c\n",
        "#d\n",
        "#e\n",
        "#f\n",
        "\n",
        "#a)\n",
        "A1=np.array([[0,0,3,0,1],\n",
        "\t\t\t [0,0,5,3,0],\n",
        "\t\t\t [3,5,0,3,0],\n",
        "\t\t\t [0,3,1,0,2],\n",
        "\t\t\t [1,0,0,2,0]])\n",
        "G1 = nx.from_numpy_matrix(A1)\n",
        "pos=nx.spring_layout(G1)\n",
        "nx.draw_networkx(G1,pos=pos,with_labels=True,labels={a:b for a,b in enumerate('abcde')})\n",
        "edge_labels = nx.draw_networkx_edge_labels(G1,font_size=6,pos=pos,label_pos=0.5)\n",
        "plt.axis('equal')\n",
        "plt.show()\n",
        "\n",
        "#b)\n",
        "A2=np.array([[0,0,0,0,1,1],\n",
        "\t\t\t [0,0,5,3,0,0],\n",
        "\t\t\t [0,5,0,1,5,0],\n",
        "\t\t\t [0,3,1,0,2,3],\n",
        "\t\t\t [1,0,5,2,0,6],\n",
        "\t\t\t [1,0,0,3,6,0]])\n",
        "G1 = nx.from_numpy_matrix(A2)\n",
        "pos=nx.spring_layout(G1)\n",
        "nx.draw_networkx(G1,pos=pos,with_labels=True,labels={a:b for a,b in enumerate('abcdef')})\n",
        "edge_labels = nx.draw_networkx_edge_labels(G1,font_size=6,pos=pos,label_pos=0.5)\n",
        "plt.axis('equal')\n",
        "plt.show()\n"
      ],
      "execution_count": null,
      "outputs": [
        {
          "output_type": "display_data",
          "data": {
            "image/png": "[encoded data removed]",
            "text/plain": [
              "<Figure size 432x288 with 1 Axes>"
            ]
          },
          "metadata": {}
        },
        {
          "output_type": "display_data",
          "data": {
            "image/png": "[encoded data removed]",
            "text/plain": [
              "<Figure size 432x288 with 1 Axes>"
            ]
          },
          "metadata": {}
        }
      ]
    },
    {
      "cell_type": "code",
      "source": [
        "def convert(a):\n",
        "  list1=[]\n",
        "  list2=[]\n",
        "  list3=[]\n",
        "  for i in range(len(a)):\n",
        "    for j in range(len(a[i])):\n",
        "      if a[i][j] != 0:\n",
        "        list1.append(i)\n",
        "        list2.append(j)\n",
        "        list3.append(a[i][j])\n",
        "  listOfEdges=list(zip(list1,list2,list3))\n",
        "  return listOfEdges\n",
        "a =[[0, 0, 1], # 0\n",
        "    [0, 0, 2], # 1\n",
        "    [3, 4, 0]] # 2\n",
        "\n",
        "listOfEdges = convert(a)\n",
        "print(listOfEdges)"
      ],
      "metadata": {
        "colab": {
          "base_uri": "https://localhost:8080/"
        },
        "id": "_1FI17ySqz-T",
        "outputId": "e437de06-5c76-4902-c967-d90c4ce59470"
      },
      "execution_count": null,
      "outputs": [
        {
          "output_type": "stream",
          "name": "stdout",
          "text": [
            "[(0, 2, 1), (1, 2, 2), (2, 0, 3), (2, 1, 4)]\n"
          ]
        }
      ]
    }
  ]
}